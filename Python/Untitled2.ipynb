{
 "cells": [
  {
   "cell_type": "code",
   "execution_count": 1,
   "id": "mobile-invasion",
   "metadata": {},
   "outputs": [
    {
     "name": "stdout",
     "output_type": "stream",
     "text": [
      "The value of i is currently 2\n",
      "The value of i is currently 5\n"
     ]
    }
   ],
   "source": [
    "for i in range(2, 8, 3):\n",
    "    print(\"The value of i is currently\", i)\n"
   ]
  },
  {
   "cell_type": "code",
   "execution_count": 2,
   "id": "threatened-point",
   "metadata": {},
   "outputs": [],
   "source": [
    "import time\n",
    "\n",
    "# Write a for loop that counts to five.\n",
    "    # Body of the loop - print the loop iteration number and the word \"Mississippi\".\n",
    "    # Body of the loop - use: time.sleep(1)\n",
    "\n",
    "# Write a print function with the final message.\n"
   ]
  },
  {
   "cell_type": "code",
   "execution_count": null,
   "id": "annoying-drunk",
   "metadata": {},
   "outputs": [],
   "source": []
  }
 ],
 "metadata": {
  "kernelspec": {
   "display_name": "Python 3",
   "language": "python",
   "name": "python3"
  },
  "language_info": {
   "codemirror_mode": {
    "name": "ipython",
    "version": 3
   },
   "file_extension": ".py",
   "mimetype": "text/x-python",
   "name": "python",
   "nbconvert_exporter": "python",
   "pygments_lexer": "ipython3",
   "version": "3.6.1"
  }
 },
 "nbformat": 4,
 "nbformat_minor": 5
}
